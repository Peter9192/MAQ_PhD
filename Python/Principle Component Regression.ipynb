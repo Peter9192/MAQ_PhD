{
 "cells": [
  {
   "cell_type": "markdown",
   "metadata": {},
   "source": [
    "# Principle Component Regression (PCR)\n",
    "\n",
    "*Erik van Schaik*\n",
    "\n",
    "This notebook shows how to do principle component regression (PCR) using Python. As of today, no predefined function to do PCR is available. \n",
    "\n",
    "PCR differs from ordinary linear squares (OLS) regression by assuming errors in both variables. Rather than minimizing the distance from y to x (or vice versa), it minimizes the distance from x **and** y to a common predictor. PCR is the preferred statistical model to use when constructing Keeling plots. See also https://en.wikipedia.org/wiki/Principal_component_regression and Miller et al. (2003)\n",
    "\n",
    "If all goes well, the PCR fit should look more like the expected 'best fit' through the cloud of points. It also have a lower RMSE when noise is large enough.\n",
    "\n",
    "***NOTE: If PCA fit is reversed, run again. This is expected behaviour as PC's are not bound by absolute direction***\n",
    "\n",
    "Miller, John B., and Pieter P. Tans. “Calculating Isotopic Fractionation from Atmospheric Measurements at Various Scales.” Tellus B 55, no. 2 (April 2003): 207–14. doi:10.1034/j.1600-0889.2003.00020.x.\n"
   ]
  },
  {
   "cell_type": "code",
   "execution_count": 34,
   "metadata": {},
   "outputs": [
    {
     "data": {
      "image/png": "[encoded data removed]",
      "text/plain": [
       "<matplotlib.figure.Figure at 0x7f0370936358>"
      ]
     },
     "metadata": {},
     "output_type": "display_data"
    },
    {
     "name": "stdout",
     "output_type": "stream",
     "text": [
      "r:           0.796835559743\n",
      "MSE of LM:   2816.16251754\n",
      "MSE of PCA:  323.707440286\n"
     ]
    }
   ],
   "source": [
    "# Load libraries\n",
    "import numpy as np\n",
    "from scipy.stats import linregress\n",
    "from sklearn.decomposition import PCA\n",
    "from sklearn.metrics import mean_squared_error as mse\n",
    "import matplotlib.pyplot as plt\n",
    "import seaborn as sns\n",
    "plt.style.use('seaborn-white')\n",
    "\n",
    "%matplotlib inline\n",
    "\n",
    "\n",
    "# Create two variables with noise\n",
    "a = np.random.randn(100)*20. + np.arange(0,100,1) \n",
    "b = np.random.randn(100)*20. + np.arange(0,500,5) + 1000.\n",
    "\n",
    "# Put them in an array\n",
    "c = np.zeros((100,2))\n",
    "c[:,0] = a\n",
    "c[:,1] = b\n",
    "\n",
    "\n",
    "\n",
    "#########\n",
    "# TRAIN #\n",
    "#########\n",
    "\n",
    "# Train PCA\n",
    "pca = PCA(n_components=1)\n",
    "pca.fit_transform(c)\n",
    "\n",
    "# Train linear model\n",
    "fit = linregress(a,b)\n",
    "\n",
    "# Derive coefficients from PCA\n",
    "pca_slope = 1./pca.components_[0][0]\n",
    "pca_intercept = np.mean(b) - (np.mean(a) * pca_slope)\n",
    "\n",
    "\n",
    "\n",
    "########\n",
    "# PLOT #\n",
    "########\n",
    "\n",
    "# Create lines for fits\n",
    "pca_fit = np.arange(0,100,1) * pca_slope + pca_intercept\n",
    "lm_fit = np.arange(0,100,1) * fit[0] + fit[1]\n",
    "\n",
    "# Plot\n",
    "fig,ax = plt.subplots()\n",
    "ax.scatter(a,b, color='grey')\n",
    "ax.plot(pca_fit, label='PCR', color='red')\n",
    "ax.plot(lm_fit, label='OLS', color='darkblue')\n",
    "ax.set_xlabel('variable a', fontsize=12)\n",
    "ax.set_ylabel('variable b', fontsize=12)\n",
    "ax.legend()\n",
    "plt.show()\n",
    "\n",
    "# Print statistics\n",
    "print(\"r:          \",np.corrcoef(a,b)[0][1])\n",
    "print(\"MSE of LM:  \",mse(b,lm_fit))\n",
    "print(\"MSE of PCA: \",mse(b,pca_fit))"
   ]
  },
  {
   "cell_type": "code",
   "execution_count": null,
   "metadata": {
    "collapsed": true
   },
   "outputs": [],
   "source": []
  }
 ],
 "metadata": {
  "kernelspec": {
   "display_name": "Python [conda root]",
   "language": "python",
   "name": "conda-root-py"
  },
  "language_info": {
   "codemirror_mode": {
    "name": "ipython",
    "version": 3
   },
   "file_extension": ".py",
   "mimetype": "text/x-python",
   "name": "python",
   "nbconvert_exporter": "python",
   "pygments_lexer": "ipython3",
   "version": "3.5.4"
  }
 },
 "nbformat": 4,
 "nbformat_minor": 2
}
