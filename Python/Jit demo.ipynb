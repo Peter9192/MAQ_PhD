{
 "cells": [
  {
   "cell_type": "markdown",
   "metadata": {},
   "source": [
    "# Just-in-time compilation (JIT) in Python\n",
    "\n",
    "*Gerbrand Koren, 8 Feb 2017*\n",
    "\n",
    "This demo illustrates how performance of python code can be improved by using just-in-time (JIT) compilation.\n",
    "\n",
    "Advantages of JIT:\n",
    "- does not require users to explicitly perform compilation step before execution (keeping the flexibility of an interpreted languague)\n",
    "- possible speed up of code by simply adding the decorator **@jit** before a heavy loop\n",
    "\n",
    "JIT can be imported from the numba package (which is part of the Anaconda distribution). The speed up that can be achieved by using JIT is different for each code."
   ]
  },
  {
   "cell_type": "markdown",
   "metadata": {},
   "source": [
    "#### Step 1\n",
    "Configuring some IPython settings and importing the necessary packages (all part of the Anaconda package)"
   ]
  },
  {
   "cell_type": "code",
   "execution_count": 1,
   "metadata": {
    "collapsed": true
   },
   "outputs": [],
   "source": [
    "# -- IPython settings\n",
    "%reset -f\n",
    "%matplotlib inline\n",
    "\n",
    "# -- Import statement\n",
    "import matplotlib\n",
    "import numpy as np\n",
    "import matplotlib.pyplot as plt\n",
    "from numba import jit"
   ]
  },
  {
   "cell_type": "markdown",
   "metadata": {},
   "source": [
    "#### Step 2\n",
    "Defining test loops with and without the **@jit** decorator"
   ]
  },
  {
   "cell_type": "code",
   "execution_count": 2,
   "metadata": {
    "collapsed": true
   },
   "outputs": [],
   "source": [
    "# -- Test loop\n",
    "def testloop(i_max):\n",
    "    x = 0\n",
    "    for i in range(i_max):\n",
    "        x = x + i\n",
    "\n",
    "# -- Test loop with JIT\n",
    "@jit\n",
    "def testloop_jit(i_max):\n",
    "    x = 0\n",
    "    for i in range(i_max):\n",
    "        x = x + i"
   ]
  },
  {
   "cell_type": "markdown",
   "metadata": {},
   "source": [
    "#### Step 3\n",
    "Running the code and determining execution time"
   ]
  },
  {
   "cell_type": "code",
   "execution_count": 3,
   "metadata": {
    "collapsed": false
   },
   "outputs": [],
   "source": [
    "# -- Select number of function calls\n",
    "j_max = 5\n",
    "\n",
    "# -- Pre-allocation\n",
    "t_best = np.zeros(j_max)\n",
    "t_jit_best = np.zeros(j_max)\n",
    "iterations = np.zeros(j_max)\n",
    "\n",
    "for j in range(j_max):\n",
    "    \n",
    "    # -- Call testloops and record time\n",
    "    t = %timeit -o -q testloop(10**j)\n",
    "    t_jit = %timeit -o -q testloop_jit(10**j)\n",
    "       \n",
    "    # -- Save execution time\n",
    "    t_best[j] = t.best\n",
    "    t_jit_best[j] = t_jit.best\n",
    "    \n",
    "    # -- Save iterations\n",
    "    iterations[j] = 10**j"
   ]
  },
  {
   "cell_type": "markdown",
   "metadata": {},
   "source": [
    "#### Step 4\n",
    "Showing results"
   ]
  },
  {
   "cell_type": "code",
   "execution_count": 4,
   "metadata": {
    "collapsed": false
   },
   "outputs": [
    {
     "data": {
      "image/png": "[encoded data removed]",
      "text/plain": [
       "<matplotlib.figure.Figure at 0x7f10eb2d4ad0>"
      ]
     },
     "metadata": {},
     "output_type": "display_data"
    }
   ],
   "source": [
    "# -- Plot figure\n",
    "plt.figure(figsize=[10,6])\n",
    "plt.loglog(iterations,t_best,'o-',label='without jit')\n",
    "plt.loglog(iterations,t_jit_best,'o-',label='with jit')\n",
    "plt.legend(loc=2)\n",
    "plt.grid(True)\n",
    "plt.ylabel('Execution time (s)')\n",
    "plt.xlabel('Iterations (-)')\n",
    "plt.show()"
   ]
  },
  {
   "cell_type": "code",
   "execution_count": null,
   "metadata": {
    "collapsed": true
   },
   "outputs": [],
   "source": []
  }
 ],
 "metadata": {
  "kernelspec": {
   "display_name": "Python 2",
   "language": "python",
   "name": "python2"
  },
  "language_info": {
   "codemirror_mode": {
    "name": "ipython",
    "version": 2
   },
   "file_extension": ".py",
   "mimetype": "text/x-python",
   "name": "python",
   "nbconvert_exporter": "python",
   "pygments_lexer": "ipython2",
   "version": "2.7.11"
  }
 },
 "nbformat": 4,
 "nbformat_minor": 0
}
