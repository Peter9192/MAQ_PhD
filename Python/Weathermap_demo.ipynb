{
 "cells": [
  {
   "cell_type": "markdown",
   "metadata": {},
   "source": [
    "# Interactively rendering weather maps from the KNMI database\n",
    "In the process of analysing any kind of meteorological data, it is important to comprehend the synoptic situation, *the bigger picture*. Therefore, I often visit the KNMI database to view weathermaps, but to get to the desired map requires an unpleasant and time consuming amount of mouse clicks. Therefore, I developed a small script that is able to automatically find the correct weather map given a date and time, and to visualize it immediately in the Jupyter notebook."
   ]
  },
  {
   "cell_type": "markdown",
   "metadata": {},
   "source": [
    "## Accessing and displaying the weather maps\n",
    "Every weather map is stored in the KNMI database with a standard format, e.g.:\n",
    "http://cdn.knmi.nl/knmi/map/page/klimatologie/daggegevens/weerkaarten/analyse_2012052812.gif.\n",
    "There are several ways to load such a figure in the notebook, the most simple solution is\n",
    "\n",
    "\n",
    "\n"
   ]
  },
  {
   "cell_type": "code",
   "execution_count": 31,
   "metadata": {
    "collapsed": false
   },
   "outputs": [
    {
     "data": {
      "text/html": [
       "<img src=\"http://cdn.knmi.nl/knmi/map/page/klimatologie/daggegevens/weerkaarten/analyse_2012052812.gif\"/>"
      ],
      "text/plain": [
       "<IPython.core.display.Image object>"
      ]
     },
     "execution_count": 31,
     "metadata": {},
     "output_type": "execute_result"
    }
   ],
   "source": [
    "# Required package\n",
    "from IPython.display import Image\n",
    "\n",
    "weblink = 'http://cdn.knmi.nl/knmi/map/page/klimatologie/daggegevens/weerkaarten/analyse_2012052812.gif'\n",
    "Image(url=weblink)"
   ]
  },
  {
   "cell_type": "markdown",
   "metadata": {},
   "source": [
    "That's a good start. The next step is to automatically generate the correct url, given any date and time."
   ]
  },
  {
   "cell_type": "code",
   "execution_count": 32,
   "metadata": {
    "collapsed": false
   },
   "outputs": [
    {
     "name": "stdout",
     "output_type": "stream",
     "text": [
      "The nearest operational analysis time is 2016-03-19 12:00:00\n",
      "As a string, this looks like 2016031912\n",
      "The corresponding map: http://cdn.knmi.nl/knmi/map/page/klimatologie/daggegevens/weerkaarten/analyse_2016031912.gif\n"
     ]
    }
   ],
   "source": [
    "# Required package\n",
    "from datetime import datetime, timedelta\n",
    "\n",
    "def find_weathermap(timestamp):\n",
    "    ''' Given a datetime object, find the url corresponding to the closest operation analysis map on the KNMI database'''\n",
    "    # First, find the time corresponding to the nearest operational analysis\n",
    "    nearest_6hour = round((timestamp.hour+timestamp.minute/60.)/6)*6 # yields either 0, 6, 12, 18 or 24(!)\n",
    "    nearest_analysis = datetime(timestamp.year,timestamp.month,timestamp.day) + timedelta(hours=nearest_6hour)\n",
    "    print 'The nearest operational analysis time is',nearest_analysis\n",
    "    # Then, convert the datetime object to a string\n",
    "    timestring = nearest_analysis.strftime('%Y%m%d%H')\n",
    "    print 'As a string, this looks like', timestring\n",
    "    # Finally, embed the string in the url\n",
    "    url = 'http://cdn.knmi.nl/knmi/map/page/klimatologie/daggegevens/weerkaarten/analyse_'+timestring+'.gif'  \n",
    "    print 'The corresponding map:',url\n",
    "    return url\n",
    "\n",
    "# Demonstration\n",
    "x = datetime.now()\n",
    "weblink = find_weathermap(x)"
   ]
  },
  {
   "cell_type": "markdown",
   "metadata": {},
   "source": [
    "This result can be plotted, but only if the current 'nearest weather map' is already there."
   ]
  },
  {
   "cell_type": "markdown",
   "metadata": {},
   "source": [
    "## Adding interactivity\n",
    "This demonstrates how weathermaps can be viewed interactively with the help of widgets. First, I will let the user choose some dates. Then, I will use a slider to visualize weather maps in a 'loop'."
   ]
  },
  {
   "cell_type": "code",
   "execution_count": 34,
   "metadata": {
    "collapsed": false
   },
   "outputs": [
    {
     "data": {
      "text/html": [
       "<img src=\"http://cdn.knmi.nl/knmi/map/page/klimatologie/daggegevens/weerkaarten/analyse_2010010700.gif\"/>"
      ],
      "text/plain": [
       "<IPython.core.display.Image object>"
      ]
     },
     "metadata": {},
     "output_type": "display_data"
    }
   ],
   "source": [
    "# Required package\n",
    "from IPython.display import Image, display\n",
    "from IPython.html.widgets import interact\n",
    "from datetime import datetime, timedelta\n",
    "\n",
    "# We use the function as above, but without the print statements\n",
    "def find_weathermap(timestamp):\n",
    "    ''' Given a datetime object, find the url corresponding to the closest operation analysis map on the KNMI database'''\n",
    "    # First, find the time corresponding to the nearest operational analysis\n",
    "    nearest_6hour = round((timestamp.hour+timestamp.minute/60.)/6)*6 # yields either 0, 6, 12, 18 or 24(!)\n",
    "    nearest_analysis = datetime(timestamp.year,timestamp.month,timestamp.day) + timedelta(hours=nearest_6hour)\n",
    "    # Then, convert the datetime object to a string\n",
    "    timestring = nearest_analysis.strftime('%Y%m%d%H')\n",
    "    # Finally, embed the string in the url\n",
    "    url = 'http://cdn.knmi.nl/knmi/map/page/klimatologie/daggegevens/weerkaarten/analyse_'+timestring+'.gif'  \n",
    "    return url\n",
    "\n",
    "# Then, a function to show the weather maps interactively:\n",
    "def view_map(year=2010,month=1,day=1,hour=0,minute=0):\n",
    "    ''' View weather maps from KNMI database for a given date and time '''\n",
    "    # First the input needs to be converted to a datetime object\n",
    "    hour = int(hour) # because I will use a float text box below\n",
    "    timestamp = datetime(year,month,day,hour,minute)\n",
    "    # Then, find the corresponding url\n",
    "    weblink = find_weathermap(timestamp)\n",
    "    # Finally, visualise the map\n",
    "    a = Image(url=weblink) # somehow, using Image() directly\n",
    "    display(a)             # does not work inside a function\n",
    "    return\n",
    "\n",
    "interact(view_map,\n",
    "         year = ({'2010':2010,'2011':2011,'2012':2012}),\n",
    "         month = ({'Januari':1,'Februari':2,'March':3,'April':4}),\n",
    "         day = (0,31),\n",
    "         hour = ('0'),\n",
    "         minute = fixed(0))"
   ]
  },
  {
   "cell_type": "markdown",
   "metadata": {},
   "source": [
    "This script is not fool-proof yet. For example, it will give errors for 31st of February. Also, I have not included all months in the dropdown menu, etc. This is just intended as a matter of demonstration. In most cases, the datetime object will be part of my (time series) data, and interaction won't be necessary. This is just to check that it works."
   ]
  }
 ],
 "metadata": {
  "kernelspec": {
   "display_name": "Python 2",
   "language": "python",
   "name": "python2"
  },
  "language_info": {
   "codemirror_mode": {
    "name": "ipython",
    "version": 2
   },
   "file_extension": ".py",
   "mimetype": "text/x-python",
   "name": "python",
   "nbconvert_exporter": "python",
   "pygments_lexer": "ipython2",
   "version": "2.7.11"
  }
 },
 "nbformat": 4,
 "nbformat_minor": 0
}
